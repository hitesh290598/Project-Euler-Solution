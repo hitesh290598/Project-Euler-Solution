{
 "cells": [
  {
   "cell_type": "markdown",
   "metadata": {},
   "source": [
    "### 1. The prime factors of 13195 are 5, 7, 13 and 29. What is the largest prime factor of the number 600851475143 ?"
   ]
  },
  {
   "cell_type": "code",
   "execution_count": 1,
   "metadata": {},
   "outputs": [
    {
     "name": "stdout",
     "output_type": "stream",
     "text": [
      "Enter any Number600851475143\n",
      "6857.0\n"
     ]
    }
   ],
   "source": [
    "def Largest_Prime_Factor(n):\n",
    "    prime_factor = 1\n",
    "    i = 2\n",
    "\n",
    "    while i <= n / i:\n",
    "        if n % i == 0:\n",
    "            prime_factor = i\n",
    "            n /= i\n",
    "        else:\n",
    "            i += 1\n",
    "\n",
    "    if prime_factor < n:\n",
    "        prime_factor = n\n",
    "\n",
    "    return prime_factor\n",
    "  \n",
    "no = int(input('Enter any Number'))\n",
    "print(Largest_Prime_Factor(no))"
   ]
  },
  {
   "cell_type": "markdown",
   "metadata": {},
   "source": [
    "### 2.  A Pythagorean triplet is a set of three natural numbers, a < b < c, for which, a2 + b2 = c2. For example, 32 + 42 = 9 + 16 = 25 = 52. There exists exactly one Pythagorean triplet for which a + b + c = 1000. Find the product abc."
   ]
  },
  {
   "cell_type": "code",
   "execution_count": 5,
   "metadata": {},
   "outputs": [
    {
     "name": "stdout",
     "output_type": "stream",
     "text": [
      "Product abc is :  31875000\n"
     ]
    }
   ],
   "source": [
    "def pythagoreanTriplet(n):\n",
    "    for i in range(1, int(n / 3) + 1):\n",
    "        for j in range(i + 1, int(n / 2) + 1):\n",
    "            k = n - i - j\n",
    "            if (i * i + j * j == k * k):\n",
    "                print(\"Product abc is : \", (i * j * k))\n",
    "                return\n",
    "    print(\"No Triplet\") \n",
    "\n",
    "n = 1000\n",
    "pythagoreanTriplet(n) "
   ]
  },
  {
   "cell_type": "code",
   "execution_count": null,
   "metadata": {},
   "outputs": [],
   "source": []
  }
 ],
 "metadata": {
  "kernelspec": {
   "display_name": "Python 3",
   "language": "python",
   "name": "python3"
  },
  "language_info": {
   "codemirror_mode": {
    "name": "ipython",
    "version": 3
   },
   "file_extension": ".py",
   "mimetype": "text/x-python",
   "name": "python",
   "nbconvert_exporter": "python",
   "pygments_lexer": "ipython3",
   "version": "3.7.4"
  }
 },
 "nbformat": 4,
 "nbformat_minor": 2
}
