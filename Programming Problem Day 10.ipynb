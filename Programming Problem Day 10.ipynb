{
 "cells": [
  {
   "cell_type": "markdown",
   "metadata": {},
   "source": [
    "20.\tWhat is the length of the shortest pipe, of internal radius 50mm, that can fully contain 21 balls of radii 30mm, 31mm, ..., 50mm? Give your answer in micrometres (10-6 m) rounded to the nearest integer."
   ]
  },
  {
   "cell_type": "code",
   "execution_count": 15,
   "metadata": {},
   "outputs": [
    {
     "name": "stdout",
     "output_type": "stream",
     "text": [
      "Answer : 1590933\n"
     ]
    }
   ],
   "source": [
    "import math\n",
    "\n",
    "def popcount(x):\n",
    "    return bin(x).count(\"1\")\n",
    "    \n",
    "\n",
    "def compute():\n",
    "    num_sphere = 21\n",
    "    \n",
    "    sphereradii = [(i + 30) * 1000 for i in range(num_sphere)]\n",
    "    minlength = [[None] * (2 ** num_sphere) for _ in range(num_sphere)]\n",
    "    \n",
    "    def find_minimum_length(currentsphereindex, setofspheres):\n",
    "        if setofspheres & (1 << currentsphereindex) == 0:\n",
    "            raise ValueError()\n",
    "        if minlength[currentsphereindex][setofspheres] is None:\n",
    "            if popcount(setofspheres) == 1:\n",
    "                result = sphereradii[currentsphereindex]\n",
    "            else:\n",
    "                result = float(\"inf\")\n",
    "                newsetofspheres = setofspheres ^ (1 << currentsphereindex)\n",
    "                for i in range(num_sphere):\n",
    "                    if newsetofspheres & (1 << i) == 0:\n",
    "                        continue\n",
    "                    temp = math.sqrt((sphereradii[i] + sphereradii[currentsphereindex] - 50000) * 200000)\n",
    "                    temp += find_minimum_length(i, newsetofspheres)\n",
    "                    result = min(temp, result)\n",
    "            minlength[currentsphereindex][setofspheres] = result\n",
    "        return minlength[currentsphereindex][setofspheres]\n",
    "    \n",
    "    ans = min((find_minimum_length(i, (1 << num_sphere) - 1) + sphereradii[i]) \n",
    "              for i in range(num_sphere))\n",
    "    \n",
    "    return str(int(round(ans)))\n",
    "\n",
    "print(\"Answer :\", compute())"
   ]
  },
  {
   "cell_type": "markdown",
   "metadata": {},
   "source": [
    "28.\tFor any positive integer n the function next_prime(n) returns the smallest prime p such that p>n. The sequence a(n) is defined by: a(1)=next_prime(1014) and a(n)=next_prime(a(n-1)) for n>1. The fibonacci sequence f(n) is defined by: f(0)=0, f(1)=1 and f(n)=f(n-1)+f(n-2) for n>1. The sequence b(n) is defined as f(a(n)). Find ∑ b(n) for 1≤n≤100 000. Give your answer mod 1234567891011."
   ]
  },
  {
   "cell_type": "code",
   "execution_count": 16,
   "metadata": {},
   "outputs": [
    {
     "name": "stdout",
     "output_type": "stream",
     "text": [
      "Answer : 283988410192\n"
     ]
    }
   ],
   "source": [
    "import math\n",
    "\n",
    "def sqrt(x):\n",
    "    assert x >= 0\n",
    "    i = 1\n",
    "    while i * i <= x:\n",
    "        i *= 2\n",
    "    y = 0\n",
    "    while i > 0:\n",
    "        if (y + i)**2 <= x:\n",
    "            y += i\n",
    "        i //= 2\n",
    "    return y\n",
    "    \n",
    "\n",
    "def list_primality(n):\n",
    "    result = [True] * (n + 1)\n",
    "    result[0] = result[1] = False\n",
    "    for i in range(sqrt(n) + 1):\n",
    "        if result[i]:\n",
    "            for j in range(i * i, len(result), i):\n",
    "                result[j] = False\n",
    "                \n",
    "    return result\n",
    "\n",
    "def list_primes(n):\n",
    "    return [i for (i, isprime) in enumerate(list_primality(n)) if isprime]\n",
    "\n",
    "def compute():\n",
    "    base = 10**14\n",
    "    search_range = 10000000  \n",
    "    modulus = 1234567891011\n",
    "    \n",
    "    iscomposite = [False] * search_range\n",
    "    primes = list_primes(sqrt(base + search_range))\n",
    "    for p in primes:\n",
    "        for i in range((base + p - 1) // p * p - base, len(iscomposite), p):\n",
    "            iscomposite[i] = True\n",
    "\n",
    "    def next_prime(n):\n",
    "        while True:\n",
    "            n += 1\n",
    "            if n >= len(iscomposite):\n",
    "                raise AssertionError(\"Search range exhausted\")\n",
    "            if not iscomposite[n]:\n",
    "                return n\n",
    "\n",
    "    ans = 0\n",
    "    p = 0\n",
    "    for i in range(100000):\n",
    "        p = next_prime(p)\n",
    "        ans = (ans + fibonacci_mod(base + p, modulus)) % modulus\n",
    "    return str(ans)\n",
    "\n",
    "\n",
    "def fibonacci_mod(n, mod):\n",
    "    a, b = 0, 1\n",
    "    binary = bin(n)[2 : ]\n",
    "    for bit in binary:\n",
    "        a, b = a * (b * 2 - a), a * a + b * b\n",
    "        if bit == \"1\":\n",
    "            a, b = b, a + b\n",
    "        a %= mod\n",
    "        b %= mod\n",
    "    return a\n",
    "\n",
    "print(\"Answer :\", compute())"
   ]
  },
  {
   "cell_type": "markdown",
   "metadata": {},
   "source": [
    "29.\tk defects are randomly distributed amongst n integrated-circuit chips produced by a factory (any number of defects may be found on a chip and each defect is independent of the other defects). Let p(k,n) represent the probability that there is a chip with at least 3 defects. For instance p(3,7) ≈ 0.0204081633. Find p(20 000, 1 000 000) and give your answer rounded to 10 decimal places in the form 0.abcdefghij"
   ]
  },
  {
   "cell_type": "code",
   "execution_count": 21,
   "metadata": {},
   "outputs": [
    {
     "name": "stdout",
     "output_type": "stream",
     "text": [
      "Answer : \n",
      "0.020408163265306145\n",
      "0.731172025128296\n"
     ]
    }
   ],
   "source": [
    "import math\n",
    "\n",
    "class Problem():\n",
    "    def solve(self):\n",
    "        self.p(3, 7)\n",
    "        self.p(20000, 1000000)\n",
    "        \n",
    "    def p(self, k_defects, n_chips):\n",
    "        max_double_defects = k_defects//2\n",
    "        good_counts = 0\n",
    "        for n_double_defects in range(max_double_defects + 1):\n",
    "            n_composite_defects = k_defects - n_double_defects\n",
    "            good_counts += self.permutation_count(n_chips, n_composite_defects) * self.composite_count(k_defects, n_double_defects)\n",
    "        print(1 - good_counts/n_chips**k_defects)\n",
    "\n",
    "    def permutation_count(self, n, m):\n",
    "        rv = 1\n",
    "        for i in range(n - m + 1, n + 1):\n",
    "            rv *= i\n",
    "        return rv\n",
    "            \n",
    "    def composite_count(self, n_defects, n_double_defects):\n",
    "        x = self.permutation_count(n_defects, n_double_defects * 2)\n",
    "        return x//(2 ** n_double_defects)//math.factorial(n_double_defects)\n",
    "    \n",
    "def main():\n",
    "    problem = Problem()\n",
    "    problem.solve()\n",
    "    \n",
    "print(\"Answer : \")\n",
    "main()"
   ]
  }
 ],
 "metadata": {
  "kernelspec": {
   "display_name": "Python 3",
   "language": "python",
   "name": "python3"
  },
  "language_info": {
   "codemirror_mode": {
    "name": "ipython",
    "version": 3
   },
   "file_extension": ".py",
   "mimetype": "text/x-python",
   "name": "python",
   "nbconvert_exporter": "python",
   "pygments_lexer": "ipython3",
   "version": "3.7.4"
  }
 },
 "nbformat": 4,
 "nbformat_minor": 2
}
