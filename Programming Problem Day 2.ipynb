{
 "cells": [
  {
   "cell_type": "markdown",
   "metadata": {},
   "source": [
    "3.\tIn the United Kingdom the currency is made up of pound (£) and pence (p). There are eight coins in general circulation:    1p, 2p, 5p, 10p, 20p, 50p, £1 (100p), and £2 (200p). It is possible to make £2 in the following way:    1×£1 + 1×50p + 2×20p + 1×5p + 1×2p + 3×1p. How many different ways can £2 be made using any number of coins?"
   ]
  },
  {
   "cell_type": "code",
   "execution_count": 21,
   "metadata": {},
   "outputs": [
    {
     "name": "stdout",
     "output_type": "stream",
     "text": [
      "Way of making £2 : 73682\n"
     ]
    }
   ],
   "source": [
    "#counter for couting number of possibilities\n",
    "count = 0\n",
    "\n",
    "# number of 100p coins\n",
    "for a in range(3):\n",
    "    # number of 50p coins\n",
    "    for b in range(int(1+(200-100*a)/50)):\n",
    "        # number of 20p coins\n",
    "        for c in range(int(1+(200-100*a-50*b)/20)):\n",
    "            # number of 10p coins\n",
    "            for d in range(int(1+(200-100*a-50*b-20*c)/10)):\n",
    "                # number of 5p coins\n",
    "                for e in range(int(1+(200-100*a-50*b-20*c-10*d)/5)):\n",
    "                    # number of 2p coins\n",
    "                    for f in range(int(1+(200-100*a-50*b-20*c-10*d-5*e)/2)):\n",
    "                        count += 1\n",
    "\n",
    "print(\"Way of making £2 :\", (count + 1))"
   ]
  },
  {
   "cell_type": "markdown",
   "metadata": {},
   "source": [
    "4.\tThe arithmetic sequence, 1487, 4817, 8147, in which each of the terms increases by 3330, is unusual in two ways: (i) each of the three terms are prime, and, (ii) each of the 4-digit numbers are permutations of one another. There are no arithmetic sequences made up of three 1-, 2-, or 3-digit primes, exhibiting this property, but there is one other 4-digit increasing sequence. What 12-digit number do you form by concatenating the three terms in this sequence?"
   ]
  },
  {
   "cell_type": "code",
   "execution_count": 17,
   "metadata": {},
   "outputs": [
    {
     "name": "stdout",
     "output_type": "stream",
     "text": [
      "12-digit number by concatenating the three terms in this sequence :  296962999629\n"
     ]
    }
   ],
   "source": [
    "# importing permutations\n",
    "from itertools import permutations\n",
    "\n",
    "# Sieve of Erotosthenes\n",
    "def sieve(n):\n",
    "    is_prime = [True] * n\n",
    "    is_prime[0] = False\n",
    "    is_prime[1] = False\n",
    "    is_prime[2] = True\n",
    "    # even numbers except 2 have been eliminated\n",
    "    for i in range(3, int(n ** 0.5+1), 2):\n",
    "        index = i * 2\n",
    "        while index < n:\n",
    "            is_prime[index] = False\n",
    "            index = index + i\n",
    "    prime = [2]\n",
    "    for i in range(3, n, 2):\n",
    "        if is_prime[i]:\n",
    "            prime.append(i)\n",
    "    return prime\n",
    "\n",
    "# create the number\n",
    "def create(b):\n",
    "    for i in range(len(b)):\n",
    "        for j in range(i+1, len(b)):\n",
    "            difference = b[j] - b[i]\n",
    "            if b[j] + difference in b:\n",
    "                return str(b[i])+str(b[j])+str(b[j]+difference)\n",
    "    return False\n",
    "\n",
    "# sieving prime numbers less than 10000\n",
    "primes = sieve(10000)\n",
    "\n",
    "# primes greater than 1487\n",
    "primes = [x for x in primes if x > 1487]\n",
    "\n",
    "for i in primes:\n",
    "    p = permutations(str(i))\n",
    "    a = [int(''.join(x)) for x in p]\n",
    "    a = list(set([x for x in a if x in primes]))\n",
    "    a.sort()\n",
    "    if len(a) >= 3:\n",
    "        if create(a):\n",
    "            print(\"12-digit number by concatenating the three terms in this sequence : \", create(a))\n",
    "            break\n"
   ]
  },
  {
   "cell_type": "markdown",
   "metadata": {},
   "source": [
    "5.\tThe prime 41, can be written as the sum of six consecutive primes: 41 = 2 + 3 + 5 + 7 + 11 + 13. This is the longest sum of consecutive primes that adds to a prime below one hundred. The longest sum of consecutive primes below one thousand that adds to a prime, contains 21 terms, and is equal to 953. Which prime, below one million, can be written as the sum of the most consecutive primes?"
   ]
  },
  {
   "cell_type": "code",
   "execution_count": 19,
   "metadata": {},
   "outputs": [
    {
     "name": "stdout",
     "output_type": "stream",
     "text": [
      "997651 can be written as the sum of the most consecutive primes below one million\n"
     ]
    }
   ],
   "source": [
    "# Sieve of Erotosthenes\n",
    "def sieve(n):\n",
    "    is_prime = [True]*n\n",
    "    is_prime[0] = False\n",
    "    is_prime[1] = False\n",
    "    is_prime[2] = True\n",
    "    # even numbers except 2 have been eliminated\n",
    "    for i in range(3, int(n**0.5+1), 2):\n",
    "        index = i*2\n",
    "        while index < n:\n",
    "            is_prime[index] = False\n",
    "            index = index+i\n",
    "    prime = [2]\n",
    "    for i in range(3, n, 2):\n",
    "        if is_prime[i]:\n",
    "            prime.append(i)\n",
    "    return prime\n",
    "\n",
    "# prime numbers upto 1 million\n",
    "primes = sieve(1000000)\n",
    "\n",
    "# length of the consecutive prime sum\n",
    "length = 0\n",
    "\n",
    "# value of the consecutive prime sum\n",
    "largest = 0\n",
    "\n",
    "# max value of the j variable(second for loop)\n",
    "lastj = len(primes)\n",
    "\n",
    "# two for loops\n",
    "for i in range(len(primes)):\n",
    "    for j in range(i+length, lastj):\n",
    "        sol = sum(primes[i:j])\n",
    "        if sol < 1000000:\n",
    "            if sol in primes:\n",
    "                length = j-i\n",
    "                largest = sol\n",
    "        else:\n",
    "            lastj = j+1\n",
    "            break\n",
    "\n",
    "# printing the requried solution\n",
    "print(largest, \"can be written as the sum of the most consecutive primes below one million\")\n"
   ]
  },
  {
   "cell_type": "markdown",
   "metadata": {},
   "source": [
    "## Note :- Solution for this problems are referd from few blogs difficult to slove problems. tried to understand problems from those blogs and solved"
   ]
  }
 ],
 "metadata": {
  "kernelspec": {
   "display_name": "Python 3",
   "language": "python",
   "name": "python3"
  },
  "language_info": {
   "codemirror_mode": {
    "name": "ipython",
    "version": 3
   },
   "file_extension": ".py",
   "mimetype": "text/x-python",
   "name": "python",
   "nbconvert_exporter": "python",
   "pygments_lexer": "ipython3",
   "version": "3.7.4"
  }
 },
 "nbformat": 4,
 "nbformat_minor": 2
}
