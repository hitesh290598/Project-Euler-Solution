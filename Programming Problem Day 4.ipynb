{
 "cells": [
  {
   "cell_type": "markdown",
   "metadata": {},
   "source": [
    "11.\tThe number 512 is interesting because it is equal to the sum of its digits raised to some power: 5 + 1 + 2 = 8, and 83 = 512. Another example of a number with this property is 614656 = 284. We shall define an to be the nth term of this sequence and insist that a number must contain at least two digits to have a sum. You are given that a2 = 512 and a10 = 614656. Find a30."
   ]
  },
  {
   "cell_type": "code",
   "execution_count": 8,
   "metadata": {},
   "outputs": [
    {
     "name": "stdout",
     "output_type": "stream",
     "text": [
      "a( 30 ) = 248155780267521\n"
     ]
    }
   ],
   "source": [
    "def sum_of_digits(n):\n",
    "    return sum(map(int, str(n)))\n",
    "\n",
    "a = []\n",
    "n = 30\n",
    "for b in range(2, 100):\n",
    "    for e in range(2, 10):\n",
    "        p = b ** e\n",
    "        if sum_of_digits(p) == b:\n",
    "            a.append(p)\n",
    "\n",
    "a.sort()\n",
    "print(\"a(\",n,\") =\", a[n-1])"
   ]
  },
  {
   "cell_type": "markdown",
   "metadata": {},
   "source": [
    "12.\tFind the smallest x + y + z with integers x > y > z > 0 such that x + y, x − y, x + z, x − z, y + z, y − z are all perfect squares."
   ]
  },
  {
   "cell_type": "code",
   "execution_count": 22,
   "metadata": {},
   "outputs": [
    {
     "name": "stdout",
     "output_type": "stream",
     "text": [
      "x + y = 855625\n",
      "x - y = 13689\n",
      "x + z = 585225\n",
      "x - z = 284089\n",
      "y + z = 571536\n",
      "y - z = 270400\n",
      "(925, 765, 756) => 1006193.0\n",
      "None\n"
     ]
    }
   ],
   "source": [
    "def main():\n",
    "    squares = set([n*n for n in range(1, 1000)])\n",
    "    for a in range(1, 1000):\n",
    "        a2 = a*a\n",
    "        for b in range(1, a):\n",
    "            b2 = b*b\n",
    "            for c in range(1, b):\n",
    "                c2 = c*c\n",
    "                if b2 - c2 in squares and a2 - c2 in squares and a2 - b2 in squares:\n",
    "                    if (a2 + b2 + c2) % 2 == 0 and a2 > b2 - c2 and b2 > a2 - c2 and c2 > a2 - b2:\n",
    "                        print(\"x + y =\", a2)\n",
    "                        print(\"x - y =\", (b2 - c2))\n",
    "                        print(\"x + z =\",  b2)\n",
    "                        print(\"x - z =\", (a2 - c2))\n",
    "                        print(\"y + z =\", c2)\n",
    "                        print(\"y - z =\", (a2 - b2))\n",
    "                        print((a, b, c), \"=>\", ((a2 + b2 + c2)/2))\n",
    "                        \n",
    "print(main())"
   ]
  },
  {
   "cell_type": "markdown",
   "metadata": {},
   "source": [
    "9.\tIf p is the perimeter of a right angle triangle with integral length sides, {a,b,c}, there are exactly three solutions for p = 120. {20,48,52}, {24,45,51}, {30,40,50} For which value of p ≤ 1000, is the number of solutions maximized?"
   ]
  },
  {
   "cell_type": "code",
   "execution_count": 15,
   "metadata": {},
   "outputs": [
    {
     "name": "stdout",
     "output_type": "stream",
     "text": [
      "Maximum perimeter, p <= 1000 is 840\n",
      "Triangles in set = 8\n"
     ]
    }
   ],
   "source": [
    "L, t_max, p_max = 1000, 0, 0\n",
    "\n",
    "for p in range(L//4*2, L+1, 2):\n",
    "    t = 0\n",
    "    for a in range(2, int(p/3.4142) + 1):\n",
    "        if  p*(p - 2*a) % (2*(p - a)) == 0: \n",
    "            t += 1\n",
    "            if t >= t_max:\n",
    "                t_max, p_max = t, p\n",
    "                \n",
    "print(\"Maximum perimeter, p <=\",L,\"is\", p_max)\n",
    "print(\"Triangles in set =\", t_max)\n"
   ]
  }
 ],
 "metadata": {
  "kernelspec": {
   "display_name": "Python 3",
   "language": "python",
   "name": "python3"
  },
  "language_info": {
   "codemirror_mode": {
    "name": "ipython",
    "version": 3
   },
   "file_extension": ".py",
   "mimetype": "text/x-python",
   "name": "python",
   "nbconvert_exporter": "python",
   "pygments_lexer": "ipython3",
   "version": "3.7.4"
  }
 },
 "nbformat": 4,
 "nbformat_minor": 2
}
