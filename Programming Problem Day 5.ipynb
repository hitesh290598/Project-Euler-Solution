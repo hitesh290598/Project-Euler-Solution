{
 "cells": [
  {
   "cell_type": "markdown",
   "metadata": {},
   "source": [
    "13.\tThe palindromic number 595 is interesting because it can be written as the sum of consecutive squares: 62 + 72 + 82 + 92 + 102 + 112 + 122. There are exactly eleven palindromes below one thousand that can be written as consecutive square sums, and the sum of these palindromes is 4164. Note that 1 = 02 + 12 has not been included as this problem is concerned with the squares of positive integers. Find the sum of all the numbers less than 108 that are both palindromic and can be written as the sum of consecutive squares."
   ]
  },
  {
   "cell_type": "code",
   "execution_count": 20,
   "metadata": {},
   "outputs": [
    {
     "name": "stdout",
     "output_type": "stream",
     "text": [
      "Sum of all the numbers less than 108 that are both palindromic and can be written as the sum of consecutive squares: 2906969179\n"
     ]
    }
   ],
   "source": [
    "import itertools\n",
    "\n",
    "def calculation():\n",
    "    nums = set()\n",
    "    for i in range(1, 10001):\n",
    "        sigma = i * i\n",
    "        for j in itertools.count(i + 1):\n",
    "            sigma += j * j\n",
    "            if sigma >= 100000000:\n",
    "                break\n",
    "            s = str(sigma)\n",
    "            if s == s[ : : -1]:  \n",
    "                nums.add(sigma)\n",
    "    return str(sum(nums))\n",
    "\n",
    "print(\"Sum of all the numbers less than 108 that are both palindromic and can be written as the sum of consecutive squares:\", calculation())"
   ]
  },
  {
   "cell_type": "markdown",
   "metadata": {},
   "source": [
    "14.\tIn the hexadecimal number system numbers are represented using 16 different digits: 0,1,2,3,4,5,6,7,8,9,A,B,C,D,E,F. The hexadecimal number AF when written in the decimal number system equals 10x16+15=175. In the 3-digit hexadecimal numbers 10A, 1A0, A10, and A01 the digits 0,1 and A are all present. Like numbers written in base ten we write hexadecimal numbers without leading zeroes. How many hexadecimal numbers containing at most sixteen hexadecimal digits exist with all of the digits 0,1, and A present at least once? Give your answer as a hexadecimal number. (A,B,C,D,E and F in upper case, without any leading or trailing code that marks the number as hexadecimal and without leading zeroes , e.g. 1A3F and not: 1a3f and not 0x1a3f and not $1A3F and not #1A3F and not 0000001A3F)"
   ]
  },
  {
   "cell_type": "code",
   "execution_count": 19,
   "metadata": {},
   "outputs": [
    {
     "name": "stdout",
     "output_type": "stream",
     "text": [
      "Project Solution = 4420408745587516162\n"
     ]
    }
   ],
   "source": [
    "s = 0\n",
    "for n in range(3, 17): \n",
    "    s += 15*16**(n-1) + 41*14**(n-1) - (43*15**(n-1) + 13**n)\n",
    "\n",
    "print (\"Project Solution =\", s)"
   ]
  },
  {
   "cell_type": "markdown",
   "metadata": {},
   "source": [
    "16.\tPeter has nine four-sided (pyramidal) dice, each with faces numbered 1, 2, 3, 4. Colin has six six-sided (cubic) dice, each with faces numbered 1, 2, 3, 4, 5, 6. Peter and Colin roll their dice and compare totals: the highest total wins. The result is a draw if the totals are equal. What is the probability that Pyramidal Pete beats Cubic Colin? Give your answer rounded to seven decimal places in the form 0.abcdefg"
   ]
  },
  {
   "cell_type": "code",
   "execution_count": 18,
   "metadata": {},
   "outputs": [
    {
     "name": "stdout",
     "output_type": "stream",
     "text": [
      "Problem Solution = 0.5731441\n"
     ]
    }
   ],
   "source": [
    "#number of ways of rolling a total of n using 9 four-sided dice (pyramidal)\n",
    "p = [0, 0,  0,  1,   9,  45, 165, 486, 1206, 2598, 4950, 8451, 13051, 18351, 23607, 27876, 30276, 30276, 27876, 23607, 18351, 13051, 8451, 4950, 2598, 1206, 486, 165, 45, 9, 1]\n",
    "\n",
    "#number of ways of rolling a total of n using 6 six-sided dice (cubic)\n",
    "c = [1, 6, 21, 56, 126, 252, 456, 756, 1161, 1666, 2247, 2856, 3431, 3906, 4221, 4332, 4221, 3906, 3431, 2856, 2247, 1666, 1161, 756, 456, 252, 126, 56, 21, 6, 1]\n",
    " \n",
    "w = 0\n",
    "t = (4**9) * (6**6.)\n",
    "for C in range(0, 31):\n",
    "    for P in range (C+1, 31):\n",
    "        w += p[P]*c[C]\n",
    "\n",
    "print(\"Problem Solution =\", round(w/t,7))"
   ]
  }
 ],
 "metadata": {
  "kernelspec": {
   "display_name": "Python 3",
   "language": "python",
   "name": "python3"
  },
  "language_info": {
   "codemirror_mode": {
    "name": "ipython",
    "version": 3
   },
   "file_extension": ".py",
   "mimetype": "text/x-python",
   "name": "python",
   "nbconvert_exporter": "python",
   "pygments_lexer": "ipython3",
   "version": "3.7.4"
  }
 },
 "nbformat": 4,
 "nbformat_minor": 2
}
