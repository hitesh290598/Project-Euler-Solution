{
 "cells": [
  {
   "cell_type": "markdown",
   "metadata": {},
   "source": [
    "18.\tA 30×30 grid of squares contains 900 fleas, initially one flea per square. When a bell is rung, each flea jumps to an adjacent square at random (usually 4 possibilities, except for fleas on the edge of the grid or at the corners). What is the expected number of unoccupied squares after 50 rings of the bell? Give your answer rounded to six decimal places."
   ]
  },
  {
   "cell_type": "code",
   "execution_count": 4,
   "metadata": {},
   "outputs": [
    {
     "name": "stderr",
     "output_type": "stream",
     "text": [
      "C:\\ProgramData\\Anaconda3\\lib\\site-packages\\ipykernel_launcher.py:60: DeprecationWarning: time.clock has been deprecated in Python 3.3 and will be removed from Python 3.8: use time.perf_counter or time.process_time instead\n"
     ]
    },
    {
     "name": "stdout",
     "output_type": "stream",
     "text": [
      "6 13106 1000\n",
      "Elapsed: 4.739446100000009\n"
     ]
    },
    {
     "name": "stderr",
     "output_type": "stream",
     "text": [
      "C:\\ProgramData\\Anaconda3\\lib\\site-packages\\ipykernel_launcher.py:63: DeprecationWarning: time.clock has been deprecated in Python 3.3 and will be removed from Python 3.8: use time.perf_counter or time.process_time instead\n"
     ]
    },
    {
     "name": "stdout",
     "output_type": "stream",
     "text": [
      "8 23649 1000\n",
      "Elapsed: 7.907857600000057\n",
      "10 36905 1000\n",
      "Elapsed: 11.777390400000058\n",
      "12 53072 1000\n",
      "Elapsed: 20.13107290000005\n",
      "14 72137 1000\n",
      "Elapsed: 22.40253610000002\n",
      "16 94342 1000\n",
      "Elapsed: 27.659547799999928\n",
      "18 119318 1000\n",
      "Elapsed: 34.87781719999998\n",
      "20 146990 1000\n",
      "Elapsed: 48.27880379999988\n",
      "22 178138 1000\n",
      "Elapsed: 51.81071629999997\n"
     ]
    }
   ],
   "source": [
    "import collections\n",
    "import random\n",
    "\n",
    "def init(size):\n",
    "    d = collections.defaultdict(int)\n",
    "    for i in range(size):\n",
    "        for j in range(size):\n",
    "            d[i,j] = 1\n",
    "        \n",
    "    return d\n",
    "\n",
    "LEFT, RIGHT, UP, DOWN = range(4)\n",
    "alldirs = (LEFT, RIGHT, UP, DOWN)\n",
    "\n",
    "def directions(i, j, size):\n",
    "    if i not in (0, size-1) and j not in (0, size-1):\n",
    "        return alldirs\n",
    "    else:\n",
    "        results = set(alldirs)\n",
    "        if i == 0:\n",
    "            results -= set([UP])\n",
    "        if i == size-1:\n",
    "            results -= set([DOWN])\n",
    "        if j == 0:\n",
    "            results -= set([LEFT])\n",
    "        if j == size-1:\n",
    "            results -= set([RIGHT])\n",
    "        return tuple(ss for ss in results)\n",
    "\n",
    "def newPos(i, j, jump, size):\n",
    "    if jump == LEFT:\n",
    "        j -= 1\n",
    "    elif jump == RIGHT:\n",
    "        j += 1\n",
    "    elif jump == UP:\n",
    "        i -= 1\n",
    "    elif jump == DOWN:\n",
    "        i += 1\n",
    "    return (i, j)\n",
    "\n",
    "def euler213(size, iterations):\n",
    "    d = init(size)\n",
    "    for m in range(iterations):\n",
    "        dst = collections.defaultdict(int)\n",
    "        for i in range(size):\n",
    "            for j in range(size):\n",
    "                dirs = directions(i, j, size)\n",
    "                for x in range(d[i,j]):\n",
    "                    jumpint = random.randint(0, len(dirs)-1)\n",
    "                    newi, newj = newPos(i, j, dirs[jumpint], size)\n",
    "                    dst[newi, newj] += 1\n",
    "        d = dst\n",
    "    return size*size - len(d)\n",
    "\n",
    "if __name__ == \"__main__\":\n",
    "    import time\n",
    "    iters, trial_iters = 1000, 50\n",
    "\n",
    "    for size in range(6, 24, 2):\n",
    "        s = time.clock()\n",
    "        c = sum(euler213(size, trial_iters) for _ in range(iters))\n",
    "        print(\"{0} {1} {2}\".format(size, c, iters))\n",
    "        e = time.clock()\n",
    "        print(\"Elapsed: {0}\".format(e - s))"
   ]
  },
  {
   "cell_type": "markdown",
   "metadata": {},
   "source": [
    "22.\tLet S = {2, 3, 5, ..., 4999} be the set of prime numbers less than 5000. A Find the number of subsets of S, the sum of whose elements is a prime number. Enter the rightmost 16 digits as your answer."
   ]
  },
  {
   "cell_type": "code",
   "execution_count": 1,
   "metadata": {},
   "outputs": [
    {
     "name": "stdout",
     "output_type": "stream",
     "text": [
      "1425480602091519\n"
     ]
    }
   ],
   "source": [
    "count = [0 for k in range(250)]\n",
    "t = [0 for k in range(250)]\n",
    "\n",
    "for i in range(1,250251):\n",
    "    count[pow(i, i, 250)] += 1\n",
    "\n",
    "t[0] = 1\n",
    "for i in range(250):\n",
    "    for j in range(count[i]):\n",
    "        t = [(t[k] + t[(k-i)]) % 10**16 for k in range(250)]\n",
    "\n",
    "print(t[0]-1)"
   ]
  },
  {
   "cell_type": "code",
   "execution_count": null,
   "metadata": {},
   "outputs": [],
   "source": []
  }
 ],
 "metadata": {
  "kernelspec": {
   "display_name": "Python 3",
   "language": "python",
   "name": "python3"
  },
  "language_info": {
   "codemirror_mode": {
    "name": "ipython",
    "version": 3
   },
   "file_extension": ".py",
   "mimetype": "text/x-python",
   "name": "python",
   "nbconvert_exporter": "python",
   "pygments_lexer": "ipython3",
   "version": "3.7.4"
  }
 },
 "nbformat": 4,
 "nbformat_minor": 2
}
