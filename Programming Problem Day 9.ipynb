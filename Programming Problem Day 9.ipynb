{
 "cells": [
  {
   "cell_type": "markdown",
   "metadata": {},
   "source": [
    "6.\tThe primes 3, 7, 109, and 673, are quite remarkable. By taking any two primes and concatenating them in any order the result will always be prime. For example, taking 7 and 109, both 7109 and 1097 are prime. The sum of these four primes, 792, represents the lowest sum for a set of four primes with this property. Find the lowest sum for a set of five primes for which any two primes concatenate to produce another prime."
   ]
  },
  {
   "cell_type": "code",
   "execution_count": 16,
   "metadata": {},
   "outputs": [
    {
     "name": "stdout",
     "output_type": "stream",
     "text": [
      "26033\n"
     ]
    }
   ],
   "source": [
    "import random, math\n",
    "\n",
    "def sieve(n):\n",
    "    is_prime = [True]*n\n",
    "    is_prime[0] = False\n",
    "    is_prime[1] = False\n",
    "    is_prime[2] = True\n",
    "    # even numbers except 2 have been eliminated\n",
    "    for i in range(3, int(n**0.5+1), 2):\n",
    "        index = i*2\n",
    "        while index < n:\n",
    "            is_prime[index] = False\n",
    "            index = index+i\n",
    "    prime = [2]\n",
    "    for i in range(3, n, 2):\n",
    "        if is_prime[i]:\n",
    "            prime.append(i)\n",
    "    return prime\n",
    "\n",
    "def is_prime(n, k = 3):\n",
    "    if n < 6:  # assuming n >= 0 in all cases... shortcut small cases here\n",
    "        return [False, False, True, True, False, True][n]\n",
    "    elif n % 2 == 0:  # should be faster than n % 2\n",
    "        return False\n",
    "    else:\n",
    "        s, d = 0, n - 1\n",
    "        while d % 2 == 0:\n",
    "            s, d = s + 1, d >> 1\n",
    "      # A for loop with a random sample of numbers\n",
    "        for a in random.sample(range(2, n-2), k):\n",
    "            x = pow(a, d, n)\n",
    "            if x != 1 and x + 1 != n:\n",
    "                for r in range(1, s):\n",
    "                    x = pow(x, 2, n)\n",
    "                    if x == 1:\n",
    "                        return False  # composite for sure\n",
    "                    elif x == n - 1:\n",
    "                        a = 0  # so we know loop didn't continue to end\n",
    "                        break  # could be strong liar, try another a\n",
    "                if a:\n",
    "                    return False  # composite if we reached end of this loop\n",
    "    return True  # probably prime if reached end of outer loop\n",
    "\n",
    "# A function to find all the combinations of the given two numbers\n",
    "# and check if they are prime using the Rabin miller\n",
    "def comb(a, b):\n",
    "    len_a = math.floor(math.log10(a))+1\n",
    "    len_b = math.floor(math.log10(b))+1\n",
    "    if is_prime(int(a*(10**len_b)+b)) and is_prime(int(b*(10**len_a)+a)):\n",
    "        return True\n",
    "    return False\n",
    "\n",
    "\n",
    "# finding out the primes upto 10000\n",
    "primes = sieve(10000)\n",
    "\n",
    "# problem solution\n",
    "def prime_pairs():\n",
    "    # a is first number\n",
    "    for a in primes:\n",
    "        # b is second number\n",
    "        for b in primes:\n",
    "            # check if b is less than a\n",
    "            if b < a:\n",
    "                continue\n",
    "            # check if a and b satisfy the condition\n",
    "            if comb(a, b):\n",
    "                # c is the third number\n",
    "                for c in primes:\n",
    "                    # check if c is less than b\n",
    "                    if c < b:\n",
    "                        continue\n",
    "                    # check if a,c and b, c satisfy the condition\n",
    "                    if comb(a, c) and comb(b, c):\n",
    "                        # d is the fourth number\n",
    "                        for d in primes:\n",
    "                            # check if d is less than c\n",
    "                            if d < c:\n",
    "                                continue\n",
    "                            # check if (a,d), (b,d) and (c,d) satisfy the condition\n",
    "                            if comb(a, d) and comb(b, d) and comb(c, d):\n",
    "                                # e is the fifth prime\n",
    "                                for e in primes:\n",
    "                                    # check if e is less than d\n",
    "                                    if e < d:\n",
    "                                        continue\n",
    "                                    # check if (a, e), (b, e), (c, e) and (d, e) satisfy condition\n",
    "                                    if comb(a, e) and comb(b, e) and comb(c, e) and comb(d, e):\n",
    "                                        return a+b+c+d+e\n",
    "\n",
    "\n",
    "print(prime_pairs())"
   ]
  },
  {
   "cell_type": "markdown",
   "metadata": {},
   "source": [
    "27.\tHow many integers 0 ≤ n < 1018 have the property that the sum of the digits of n equals the sum of digits of 137n?"
   ]
  },
  {
   "cell_type": "code",
   "execution_count": 12,
   "metadata": {},
   "outputs": [
    {
     "name": "stdout",
     "output_type": "stream",
     "text": [
      "271523\n"
     ]
    }
   ],
   "source": [
    "print(sum(sum(map(int, str(n))) == sum(map(int, str(137 * n)))\n",
    "          for n in range(0, 10 ** 7, 9)))"
   ]
  }
 ],
 "metadata": {
  "kernelspec": {
   "display_name": "Python 3",
   "language": "python",
   "name": "python3"
  },
  "language_info": {
   "codemirror_mode": {
    "name": "ipython",
    "version": 3
   },
   "file_extension": ".py",
   "mimetype": "text/x-python",
   "name": "python",
   "nbconvert_exporter": "python",
   "pygments_lexer": "ipython3",
   "version": "3.7.4"
  }
 },
 "nbformat": 4,
 "nbformat_minor": 2
}
