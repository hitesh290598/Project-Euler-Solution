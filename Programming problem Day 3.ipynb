{
 "cells": [
  {
   "cell_type": "markdown",
   "metadata": {},
   "source": [
    "7.\tIf the numbers 1 to 5 are written out in words: one, two, three, four, five, then there are 3 + 3 + 5 + 4 + 4 = 19 letters used in total. If all the numbers from 1 to 1000 (one thousand) inclusive were written out in words, how many letters would be used?"
   ]
  },
  {
   "cell_type": "code",
   "execution_count": 19,
   "metadata": {},
   "outputs": [
    {
     "name": "stdout",
     "output_type": "stream",
     "text": [
      "21124\n"
     ]
    }
   ],
   "source": [
    "dic = {n:0 for n in range(0,1001)}\n",
    "\n",
    "dic[0] = 0#''\n",
    "\n",
    "dic[1] = 3#'one'\n",
    "\n",
    "dic[2] = 3#'two'\n",
    "\n",
    "dic[3] = 5#'three'\n",
    "\n",
    "dic[4] = 4#'four'\n",
    "\n",
    "dic[5] = 4#'five'\n",
    "\n",
    "dic[6] = 3#'six'\n",
    "\n",
    "dic[7] = 5#'seven'\n",
    "\n",
    "dic[8] = 5#'eight'\n",
    "\n",
    "dic[9] = 4#'nine'\n",
    "\n",
    "dic[10] = 3#'ten'\n",
    "\n",
    "dic[11] = 6#'eleven'\n",
    "\n",
    "dic[12] = 6#'twelve'\n",
    "\n",
    "dic[13] = 8#'thirteen'\n",
    "\n",
    "dic[14] = 8#'fourteen'\n",
    "\n",
    "dic[15] = 7#'fifteen'\n",
    "\n",
    "dic[16] = 7#'sixteen'\n",
    "\n",
    "dic[17] = 9#'seventeen'\n",
    "\n",
    "dic[18] = 8#'eighteen'\n",
    "\n",
    "dic[19] = 8#'nineteen'\n",
    "\n",
    "dic[20] = 6#'twenty'\n",
    "\n",
    "dic[30] = 6#'thirty'\n",
    "\n",
    "dic[40] = 5#'forty'\n",
    "\n",
    "dic[50] = 5#'fifty'\n",
    "\n",
    "dic[60] = 5#'sixty'\n",
    "\n",
    "dic[70] = 7#'seventy'\n",
    "\n",
    "dic[80] = 6#'eighty'\n",
    "\n",
    "dic[90] = 6#'ninety'\n",
    "\n",
    "for i in range(21,100):\n",
    "    tens = int(i/10)*10\n",
    "    ones = i - tens\n",
    "    dic[i]  = dic[tens]+dic[ones]\n",
    "\n",
    "#for loop to generate values for 100-999\n",
    "for i in range(100,1000):\n",
    "    hundreds = int(i/100)\n",
    "    tens_ones = i - hundreds*100\n",
    "    if tens_ones == 0:\n",
    "        dic[i] = dic[hundreds] + 7#'hundred'\n",
    "    else:\n",
    "        dic[i] = dic[hundreds] +10+dic[tens_ones]\n",
    "\n",
    "dic[1000] = 11#'one thousand'\n",
    "\n",
    "print(sum(dic.values()))\n"
   ]
  },
  {
   "cell_type": "markdown",
   "metadata": {},
   "source": [
    "8.\tThe number, 197, is called a circular prime because all rotations of the digits: 197, 971, and 719, are themselves prime. There are thirteen such primes below 100: 2, 3, 5, 7, 11, 13, 17, 31, 37, 71, 73, 79, and 97. How many circular primes are there below one million?"
   ]
  },
  {
   "cell_type": "code",
   "execution_count": 11,
   "metadata": {},
   "outputs": [
    {
     "name": "stdout",
     "output_type": "stream",
     "text": [
      "55 circular primes are there below one million\n"
     ]
    }
   ],
   "source": [
    "def sieve(n):\n",
    "    is_prime = [True]*n\n",
    "    is_prime[0] = False\n",
    "    is_prime[1] = False\n",
    "    is_prime[2] = True\n",
    "    \n",
    "    for i in range(3,int(n**0.5+1),2):\n",
    "        index = i*2\n",
    "        while index < n:\n",
    "            is_prime[index] = False\n",
    "            index = index+i\n",
    "    prime = [2]\n",
    "    for i in range(3,n,2):\n",
    "        if is_prime[i]:\n",
    "            prime.append(i)\n",
    "            \n",
    "    return prime\n",
    "\n",
    "primes = sieve(1000000)\n",
    "\n",
    "counter = 0\n",
    "\n",
    "for i in primes:\n",
    "    flag = True\n",
    "    number = i/10\n",
    "    while number:\n",
    "        if (number%10) % 2 == 0 or (number%10)%5 == 0:\n",
    "            flag = False\n",
    "            break\n",
    "        number //= 10\n",
    "    if flag:\n",
    "        length = len(str(i))\n",
    "        number = i\n",
    "        counter += 1\n",
    "        for j in range(length):\n",
    "            number = (number%10)*10**(length-1)+number//10\n",
    "            if number not in primes:\n",
    "                counter -= 1\n",
    "                break\n",
    "                \n",
    "                \n",
    "print(counter, \"circular primes are there below one million\")"
   ]
  },
  {
   "cell_type": "markdown",
   "metadata": {},
   "source": [
    "10.\tThe series, 11 + 22 + 33 + ... + 1010 = 10405071317. Find the last ten digits of the series, 11 + 22 + 33 + ... + 10001000."
   ]
  },
  {
   "cell_type": "code",
   "execution_count": 17,
   "metadata": {},
   "outputs": [
    {
     "name": "stdout",
     "output_type": "stream",
     "text": [
      " last ten digits of the series, 11 + 22 + 33 + ... + 10001000 :  9110846700\n"
     ]
    }
   ],
   "source": [
    "a = 0\n",
    "\n",
    "for i in range(1, 1001):\n",
    "    a += i**i\n",
    "\n",
    "print(\" last ten digits of the series, 11 + 22 + 33 + ... + 10001000 : \", str(a)[-10:])"
   ]
  },
  {
   "cell_type": "code",
   "execution_count": null,
   "metadata": {},
   "outputs": [],
   "source": []
  }
 ],
 "metadata": {
  "kernelspec": {
   "display_name": "Python 3",
   "language": "python",
   "name": "python3"
  },
  "language_info": {
   "codemirror_mode": {
    "name": "ipython",
    "version": 3
   },
   "file_extension": ".py",
   "mimetype": "text/x-python",
   "name": "python",
   "nbconvert_exporter": "python",
   "pygments_lexer": "ipython3",
   "version": "3.7.4"
  }
 },
 "nbformat": 4,
 "nbformat_minor": 2
}
